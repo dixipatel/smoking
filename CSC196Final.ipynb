{
  "nbformat": 4,
  "nbformat_minor": 0,
  "metadata": {
    "colab": {
      "name": "196Final.ipynb",
      "provenance": [],
      "collapsed_sections": []
    },
    "kernelspec": {
      "name": "python3",
      "display_name": "Python 3"
    }
  },
  "cells": [
    {
      "cell_type": "code",
      "metadata": {
        "id": "Qmrbhga5Wzjw",
        "colab_type": "code",
        "colab": {
          "base_uri": "https://localhost:8080/",
          "height": 681
        },
        "outputId": "4c58ca71-210f-4b31-c9ec-6fef15054b64"
      },
      "source": [
        "# Import Tableau Visualization \n",
        "from IPython.display import IFrame\n",
        "IFrame('https://dixipatel.github.io/Deaths-by-Smoking-Data-visualizations/', \n",
        "       width=1280, height=660)"
      ],
      "execution_count": 19,
      "outputs": [
        {
          "output_type": "execute_result",
          "data": {
            "text/html": [
              "\n",
              "        <iframe\n",
              "            width=\"1220\"\n",
              "            height=\"660\"\n",
              "            src=\"https://dixipatel.github.io/Deaths-by-Smoking-Data-visualizations/\"\n",
              "            frameborder=\"0\"\n",
              "            allowfullscreen\n",
              "        ></iframe>\n",
              "        "
            ],
            "text/plain": [
              "<IPython.lib.display.IFrame at 0x7f13e8a5b630>"
            ]
          },
          "metadata": {
            "tags": []
          },
          "execution_count": 19
        }
      ]
    },
    {
      "cell_type": "code",
      "metadata": {
        "id": "RpOj9Zcf4pY0",
        "colab_type": "code",
        "outputId": "f8d2adda-1bd9-4624-819f-efd22fbebbc6",
        "colab": {
          "base_uri": "https://localhost:8080/",
          "height": 681
        }
      },
      "source": [
        "\n",
        "\n",
        "# Import Tableau Visualization \n",
        "from IPython.display import IFrame\n",
        "IFrame('https://public.tableau.com/views/Smoking_new/Dashboard3?:embed=y&:display_count=yes&:showVizHome=no', \n",
        "       width=1320, height=660)"
      ],
      "execution_count": 0,
      "outputs": [
        {
          "output_type": "execute_result",
          "data": {
            "text/html": [
              "\n",
              "        <iframe\n",
              "            width=\"1220\"\n",
              "            height=\"660\"\n",
              "            src=\"https://public.tableau.com/views/Smoking_new/Dashboard3?:embed=y&:display_count=yes&:showVizHome=no\"\n",
              "            frameborder=\"0\"\n",
              "            allowfullscreen\n",
              "        ></iframe>\n",
              "        "
            ],
            "text/plain": [
              "<IPython.lib.display.IFrame at 0x7f13e8a5bfd0>"
            ]
          },
          "metadata": {
            "tags": []
          },
          "execution_count": 18
        }
      ]
    },
    {
      "cell_type": "code",
      "metadata": {
        "id": "QebofmKldOgJ",
        "colab_type": "code",
        "outputId": "142be0fd-765f-4f0e-9cfe-d239817fbec7",
        "colab": {
          "base_uri": "https://localhost:8080/",
          "height": 864
        }
      },
      "source": [
        "%html \n",
        "<script type='text/javascript' src='https://10ay.online.tableau.com/javascripts/api/viz_v1.js'></script><div class='tableauPlaceholder' style='width: 1700px; height: 827px;'><object class='tableauViz' width='1700' height='827' style='display:none;'><param name='host_url' value='https%3A%2F%2F10ay.online.tableau.com%2F' /> <param name='embed_code_version' value='3' /> <param name='site_root' value='&#47;t&#47;196final' /><param name='name' value='Book1smokebygender&#47;Dashboard1' /><param name='tabs' value='no' /><param name='toolbar' value='yes' /><param name='showAppBanner' value='false' /></object></div>"
      ],
      "execution_count": 0,
      "outputs": [
        {
          "output_type": "display_data",
          "data": {
            "text/html": [
              "<script type='text/javascript' src='https://10ay.online.tableau.com/javascripts/api/viz_v1.js'></script><div class='tableauPlaceholder' style='width: 1700px; height: 827px;'><object class='tableauViz' width='1700' height='827' style='display:none;'><param name='host_url' value='https%3A%2F%2F10ay.online.tableau.com%2F' /> <param name='embed_code_version' value='3' /> <param name='site_root' value='&#47;t&#47;196final' /><param name='name' value='Book1smokebygender&#47;Dashboard1' /><param name='tabs' value='no' /><param name='toolbar' value='yes' /><param name='showAppBanner' value='false' /></object></div>"
            ],
            "text/plain": [
              "<IPython.core.display.HTML object>"
            ]
          },
          "metadata": {
            "tags": []
          }
        }
      ]
    },
    {
      "cell_type": "code",
      "metadata": {
        "id": "9RrsfJybrgAO",
        "colab_type": "code",
        "outputId": "0cb7260e-79ed-4b24-9598-19f60c9cdc9c",
        "colab": {
          "base_uri": "https://localhost:8080/",
          "height": 864
        }
      },
      "source": [
        "%%html\n",
        "<script type='text/javascript' src='https://10ay.online.tableau.com/javascripts/api/viz_v1.js'></script><div class='tableauPlaceholder' style='width: 1500px; height: 827px;'><object class='tableauViz' width='1500' height='827' style='display:none;'><param name='host_url' value='https%3A%2F%2F10ay.online.tableau.com%2F' /> <param name='embed_code_version' value='3' /> <param name='site_root' value='&#47;t&#47;196final' /><param name='name' value='Smoking_graph&#47;Dashboard4' /><param name='tabs' value='no' /><param name='toolbar' value='yes' /><param name='showAppBanner' value='false' /></object></div>"
      ],
      "execution_count": 0,
      "outputs": [
        {
          "output_type": "display_data",
          "data": {
            "text/html": [
              "<script type='text/javascript' src='https://10ay.online.tableau.com/javascripts/api/viz_v1.js'></script><div class='tableauPlaceholder' style='width: 1500px; height: 827px;'><object class='tableauViz' width='1500' height='827' style='display:none;'><param name='host_url' value='https%3A%2F%2F10ay.online.tableau.com%2F' /> <param name='embed_code_version' value='3' /> <param name='site_root' value='&#47;t&#47;196final' /><param name='name' value='Smoking_graph&#47;Dashboard4' /><param name='tabs' value='no' /><param name='toolbar' value='yes' /><param name='showAppBanner' value='false' /></object></div>"
            ],
            "text/plain": [
              "<IPython.core.display.HTML object>"
            ]
          },
          "metadata": {
            "tags": []
          }
        }
      ]
    },
    {
      "cell_type": "code",
      "metadata": {
        "id": "fa9yO1_3w2Ns",
        "colab_type": "code",
        "outputId": "3ea5173b-84cd-4966-9a86-cc14e1dddc79",
        "colab": {
          "base_uri": "https://localhost:8080/",
          "height": 1000
        }
      },
      "source": [
        "%%html\n",
        "<iframe src=\"https://tableau.admin.uillinois.edu:7443/tableau/tableauservlet.do?dst=views/Book1smokebygender/Dashboard1?:embed_code_version=3?:embed=y&:showShareOptions=true&:display_count=no&:showVizHome=no \" width=\"999\" height=\"999\">\n",
        "</iframe>"
      ],
      "execution_count": 0,
      "outputs": [
        {
          "output_type": "display_data",
          "data": {
            "text/html": [
              "<iframe src=\"https://tableau.admin.uillinois.edu:7443/tableau/tableauservlet.do?dst=views/Book1smokebygender/Dashboard1?:embed_code_version=3?:embed=y&:showShareOptions=true&:display_count=no&:showVizHome=no \" width=\"999\" height=\"999\">\n",
              "</iframe>"
            ],
            "text/plain": [
              "<IPython.core.display.HTML object>"
            ]
          },
          "metadata": {
            "tags": []
          }
        }
      ]
    },
    {
      "cell_type": "code",
      "metadata": {
        "id": "5D07AY0uE2vp",
        "colab_type": "code",
        "colab": {}
      },
      "source": [
        ""
      ],
      "execution_count": 0,
      "outputs": []
    }
  ]
}
